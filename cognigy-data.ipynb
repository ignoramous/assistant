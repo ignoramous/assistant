{
 "cells": [
  {
   "cell_type": "code",
   "execution_count": 16,
   "metadata": {},
   "outputs": [],
   "source": [
    "from collections import Counter\n",
    "from functional import seq"
   ]
  },
  {
   "cell_type": "code",
   "execution_count": 17,
   "metadata": {},
   "outputs": [],
   "source": [
    "with open(\"/Users/ben/Desktop/cognigy.txt\") as f:\n",
    "    data = f.read()\n",
    "\n",
    "# get rid of superscript\n",
    "data = data.replace(\"¹\", \"\").replace(\"²\", \"\").replace(\"³\", \"\").replace(\"⁴\", \"\").replace(\"⁵\", \"\").replace(\"⁶\", \"\").replace(\"⁷\", \"\")"
   ]
  },
  {
   "cell_type": "code",
   "execution_count": 19,
   "metadata": {},
   "outputs": [
    {
     "data": {
      "text/plain": [
       "38"
      ]
     },
     "execution_count": 19,
     "metadata": {},
     "output_type": "execute_result"
    }
   ],
   "source": [
    "items = seq(data.split(\"---\")).map(\n",
    "    lambda x: x.strip()\n",
    ")\n",
    "pairs = list(zip(items[::2], items[1::2]))\n",
    "as_dict = seq(pairs).map(\n",
    "    lambda pair: {\n",
    "        \"human\": pair[0],\n",
    "        \"assistant\": pair[1]\n",
    "    }\n",
    ").to_list()\n",
    "len(as_dict)"
   ]
  },
  {
   "cell_type": "code",
   "execution_count": 20,
   "metadata": {},
   "outputs": [],
   "source": [
    "import pandas as pd\n",
    "import datasets"
   ]
  },
  {
   "cell_type": "code",
   "execution_count": 21,
   "metadata": {},
   "outputs": [
    {
     "name": "stderr",
     "output_type": "stream",
     "text": [
      "Creating parquet from Arrow format: 100%|██████████| 1/1 [00:00<00:00, 415.65ba/s]\n",
      "Upload 1 LFS files: 100%|██████████| 1/1 [00:01<00:00,  1.33s/it]\n",
      "Pushing dataset shards to the dataset hub: 100%|██████████| 1/1 [00:02<00:00,  2.81s/it]\n",
      "Deleting unused files from dataset repository: 100%|██████████| 1/1 [00:00<00:00,  5.22it/s]\n",
      "Downloading metadata: 100%|██████████| 383/383 [00:00<00:00, 445kB/s]\n",
      "Updating downloaded metadata with the new split.\n"
     ]
    }
   ],
   "source": [
    "df = pd.DataFrame.from_records(as_dict)\n",
    "dataset = datasets.Dataset.from_pandas(df)\n",
    "dataset.push_to_hub(\"andersonbcdefg/cognigy-qa\")"
   ]
  },
  {
   "cell_type": "code",
   "execution_count": null,
   "metadata": {},
   "outputs": [],
   "source": []
  }
 ],
 "metadata": {
  "kernelspec": {
   "display_name": "assistant",
   "language": "python",
   "name": "python3"
  },
  "language_info": {
   "codemirror_mode": {
    "name": "ipython",
    "version": 3
   },
   "file_extension": ".py",
   "mimetype": "text/x-python",
   "name": "python",
   "nbconvert_exporter": "python",
   "pygments_lexer": "ipython3",
   "version": "3.9.5"
  },
  "orig_nbformat": 4
 },
 "nbformat": 4,
 "nbformat_minor": 2
}
